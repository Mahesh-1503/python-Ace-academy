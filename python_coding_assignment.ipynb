{
 "cells": [
  {
   "cell_type": "markdown",
   "metadata": {},
   "source": [
    "### Section 1: Python Operators and Control Structures (5 questions)"
   ]
  },
  {
   "cell_type": "markdown",
   "metadata": {},
   "source": [
    "#### Question 1: Write a Python program to calculate the sum of all numbers in a list using a for loop.\n"
   ]
  },
  {
   "cell_type": "code",
   "execution_count": 19,
   "metadata": {},
   "outputs": [
    {
     "name": "stdout",
     "output_type": "stream",
     "text": [
      "15\n"
     ]
    }
   ],
   "source": [
    "# List of numbers\n",
    "numbers = [1, 2, 3, 4, 5]\n",
    "# variable to store the sum\n",
    "total = 0\n",
    "# Loop to iterate and add each number to total\n",
    "for num in numbers:\n",
    "    total += num\n",
    "    \n",
    "# print final result\n",
    "print(total)"
   ]
  },
  {
   "cell_type": "markdown",
   "metadata": {},
   "source": [
    "Explanation:\n",
    "* 1.We initialize total = 0 to store the sum.\n",
    "* 2.We loop through the numbers list using a for loop.\n",
    "* 3.In each iteration, we add the current number to total.\n",
    "* 4.After the loop completes, we print the final sum."
   ]
  },
  {
   "cell_type": "markdown",
   "metadata": {},
   "source": [
    "#### Question 2: What is the output of the following code?"
   ]
  },
  {
   "cell_type": "code",
   "execution_count": 20,
   "metadata": {},
   "outputs": [
    {
     "name": "stdout",
     "output_type": "stream",
     "text": [
      "25\n"
     ]
    }
   ],
   "source": [
    "x = 5\n",
    "y = 2\n",
    "print(x ** y)"
   ]
  },
  {
   "cell_type": "markdown",
   "metadata": {},
   "source": [
    "Why?\n",
    "* 1.** is the exponentiation operator in Python.\n",
    "* 2.x ** y means 5 raised to the power of 2 → 5^2 = 25."
   ]
  },
  {
   "cell_type": "markdown",
   "metadata": {},
   "source": [
    "#### Question 3: Write a Python program to check if a number is a palindrome using a while loop."
   ]
  },
  {
   "cell_type": "markdown",
   "metadata": {},
   "source": [
    "A palindrome is a number that remains the same when reversed.\n",
    "For example:\n",
    "\n",
    "12321 → Palindrome ✅\n",
    "12345 → Not a Palindrome ❌"
   ]
  },
  {
   "cell_type": "code",
   "execution_count": 21,
   "metadata": {},
   "outputs": [
    {
     "name": "stdout",
     "output_type": "stream",
     "text": [
      "True\n"
     ]
    }
   ],
   "source": [
    "def is_palindrome(num):\n",
    "    original = num\n",
    "    reversed_num = 0\n",
    "    temp = num\n",
    "    \n",
    "    while temp > 0:\n",
    "        digit = temp % 10\n",
    "        reversed_num = reversed_num * 10 + digit\n",
    "        temp //= 10\n",
    "        \n",
    "    return original == reversed_num \n",
    "num = 12321\n",
    "print(is_palindrome(num))"
   ]
  },
  {
   "cell_type": "markdown",
   "metadata": {},
   "source": [
    "Explanation:\n",
    "* 1.Extract digits from the number one by one using the modulus (%) operator.\n",
    "* 2.Reverse the number by multiplying the existing reversed number by 10 and adding the extracted digit.\n",
    "* 3.Compare the original number with the reversed number.\n",
    "* 4.If they are equal, return True (Palindrome); otherwise, return False."
   ]
  },
  {
   "cell_type": "markdown",
   "metadata": {},
   "source": [
    "#### Question 4: What is the output of the following code?\n",
    "\n",
    "<pre>fruits = ['apple', 'banana', 'cherry']\n",
    "print(fruits[-1])</pre>\n"
   ]
  },
  {
   "cell_type": "code",
   "execution_count": 22,
   "metadata": {},
   "outputs": [
    {
     "name": "stdout",
     "output_type": "stream",
     "text": [
      "cherry\n"
     ]
    }
   ],
   "source": [
    "fruit = ['apple', 'banana', 'cherry']\n",
    "print(fruit[-1])"
   ]
  },
  {
   "cell_type": "markdown",
   "metadata": {},
   "source": [
    "Why?\n",
    "* 1.In Python, negative indexing allows you to access elements from the end of a list.\n",
    "* 2.fruits[-1] refers to the last element of the list.\n",
    "* 3.The last element in ['apple', 'banana', 'cherry'] is 'cherry'."
   ]
  },
  {
   "cell_type": "markdown",
   "metadata": {},
   "source": [
    "#### Question 5: Write a Python program to calculate the average of all numbers in a list using a for loop."
   ]
  },
  {
   "cell_type": "code",
   "execution_count": 23,
   "metadata": {},
   "outputs": [
    {
     "name": "stdout",
     "output_type": "stream",
     "text": [
      "3.0\n"
     ]
    }
   ],
   "source": [
    "numbers = [1, 2, 3, 4, 5]\n",
    "total = 0\n",
    "for num in numbers:\n",
    "    total += num\n",
    "    \n",
    "average = total / len(numbers)\n",
    "print(average)"
   ]
  },
  {
   "cell_type": "markdown",
   "metadata": {},
   "source": [
    "Explanation:\n",
    "* 1.Initialize total = 0 to store the sum.\n",
    "* 2.Loop through the numbers list and add each number to total.\n",
    "* 3.Divide the sum by the length of the list using len(numbers).\n",
    "* 4.Print the result to get the average."
   ]
  },
  {
   "cell_type": "markdown",
   "metadata": {},
   "source": [
    "### Section 2: Lists and Dictionaries (5 questions)"
   ]
  },
  {
   "cell_type": "markdown",
   "metadata": {},
   "source": [
    "#### Question 6: Write a Python program to create a dictionary with student names as keys and their grades as values."
   ]
  },
  {
   "cell_type": "code",
   "execution_count": 24,
   "metadata": {},
   "outputs": [
    {
     "name": "stdout",
     "output_type": "stream",
     "text": [
      "{'John': 90, 'Alice': 85, 'Bob': 95}\n"
     ]
    }
   ],
   "source": [
    "students = ['John', 'Alice', 'Bob']\n",
    "grades = [90, 85, 95]\n",
    "student_dict = dict(zip(students, grades))\n",
    "print(student_dict)"
   ]
  },
  {
   "cell_type": "markdown",
   "metadata": {},
   "source": [
    "Explanation:\n",
    "* zip(students, grades) pairs each student with their corresponding grade.\n",
    "* dict(zip(...)) converts the paired values into a dictionary.\n",
    "* The final dictionary contains student names as keys and grades as values."
   ]
  },
  {
   "cell_type": "markdown",
   "metadata": {},
   "source": [
    "#### Question 7: What is the output of the following code?\n",
    "<pre>numbers = [1, 2, 3, 4, 5]\n",
    "print(numbers[1:3])</pre>\n"
   ]
  },
  {
   "cell_type": "code",
   "execution_count": 25,
   "metadata": {},
   "outputs": [
    {
     "name": "stdout",
     "output_type": "stream",
     "text": [
      "[2, 3]\n"
     ]
    }
   ],
   "source": [
    "numbers = [1, 2, 3, 4, 5]\n",
    "print(numbers[1:3])"
   ]
  },
  {
   "cell_type": "markdown",
   "metadata": {},
   "source": [
    "Why?\n",
    "* In Python, list slicing is used to extract a portion of a list.\n",
    "* numbers[1:3] means:\n",
    "* Start from index 1 (which is 2).\n",
    "* Go up to, but not including, index 3 (which is 4).\n",
    "* The extracted portion is [2, 3]."
   ]
  },
  {
   "cell_type": "markdown",
   "metadata": {},
   "source": [
    "#### Question 8: Write a Python program to sort a list of numbers in ascending order using the sorted() function."
   ]
  },
  {
   "cell_type": "code",
   "execution_count": 26,
   "metadata": {},
   "outputs": [
    {
     "name": "stdout",
     "output_type": "stream",
     "text": [
      "[2, 4, 5, 6, 9]\n"
     ]
    }
   ],
   "source": [
    "numbers = [4, 2, 9, 6, 5]\n",
    "sorted_numbers = sorted(numbers)\n",
    "print(sorted_numbers)"
   ]
  },
  {
   "cell_type": "markdown",
   "metadata": {},
   "source": [
    "Explanation:\n",
    "* The sorted() function returns a new sorted list without modifying the original list.\n",
    "* Since the numbers are initially unordered, sorted(numbers) sorts them in ascending order.\n",
    "* The sorted list is stored in sorted_numbers and then printed."
   ]
  },
  {
   "cell_type": "markdown",
   "metadata": {},
   "source": [
    "#### Question 9: What is the output of the following code?\n",
    "<pre>fruits = {'apple': 5, 'banana': 10, 'cherry': 15} \n",
    "print(fruits.get('banana'))</pre>\n"
   ]
  },
  {
   "cell_type": "code",
   "execution_count": 27,
   "metadata": {},
   "outputs": [
    {
     "name": "stdout",
     "output_type": "stream",
     "text": [
      "10\n"
     ]
    }
   ],
   "source": [
    "fruits = {'apple' : 5, 'banana': 10, 'cherry' : 15}\n",
    "print(fruits.get('banana'))"
   ]
  },
  {
   "cell_type": "markdown",
   "metadata": {},
   "source": [
    "Why?\n",
    "* Dictionaries in Python store key-value pairs.\n",
    "* The .get('banana') method retrieves the value associated with the key 'banana'.\n",
    "* The key 'banana' exists in the dictionary with a value of 10."
   ]
  },
  {
   "cell_type": "markdown",
   "metadata": {},
   "source": [
    "#### Question 10: Write a Python program to create a list of squares of all numbers from 1 to 10 using a list comprehension."
   ]
  },
  {
   "cell_type": "code",
   "execution_count": 28,
   "metadata": {},
   "outputs": [
    {
     "name": "stdout",
     "output_type": "stream",
     "text": [
      "[1, 4, 9, 16, 25, 36, 49, 64, 81, 100]\n"
     ]
    }
   ],
   "source": [
    "squares = [x ** 2 for x in range(1, 11)]\n",
    "print(squares)"
   ]
  },
  {
   "cell_type": "markdown",
   "metadata": {},
   "source": [
    "Explanation:\n",
    "* List comprehension [x**2 for x in range(1, 11)] generates a list of squares.\n",
    "* range(1, 11) iterates over numbers from 1 to 10.\n",
    "* Each number x is squared (x**2) and added to the lis"
   ]
  },
  {
   "cell_type": "markdown",
   "metadata": {},
   "source": [
    "### Section 3: Advanced Topics (5 questions)"
   ]
  },
  {
   "cell_type": "markdown",
   "metadata": {},
   "source": [
    "#### Question 11: Write a Python program to calculate the factorial of a number using recursion."
   ]
  },
  {
   "cell_type": "code",
   "execution_count": 29,
   "metadata": {},
   "outputs": [
    {
     "name": "stdout",
     "output_type": "stream",
     "text": [
      "120\n"
     ]
    }
   ],
   "source": [
    "def factorial(n):\n",
    "    if n == 0 or n == 1:\n",
    "        return 1\n",
    "    else:\n",
    "        return n * factorial(n - 1)\n",
    "    \n",
    "num = 5\n",
    "print(factorial(num))"
   ]
  },
  {
   "cell_type": "markdown",
   "metadata": {},
   "source": [
    "Explanation:\n",
    "* The base case:\n",
    "If n == 0 or n == 1, return 1 (since 0! = 1! = 1).<br>\n",
    "The recursive case:\n",
    "* Multiply n by factorial(n - 1), which keeps calling itself until reaching the base case.<br>\n",
    "* Example for n = 5:<br>\n",
    "factorial(5) = 5 * factorial(4)<br>\n",
    "factorial(4) = 4 * factorial(3)<br>\n",
    "factorial(3) = 3 * factorial(2)<br>\n",
    "factorial(2) = 2 * factorial(1)<br>\n",
    "factorial(1) = 1  (Base case)<br>\n",
    "\n",
    "* 5 * 4 * 3 * 2 * 1 = 120"
   ]
  },
  {
   "cell_type": "markdown",
   "metadata": {},
   "source": [
    "#### Question 12: What is the output of the following code?\n",
    "<pre>numbers = [1, 2, 3, 4, 5]\n",
    "print(list(reversed(numbers)))\n",
    "</pre>"
   ]
  },
  {
   "cell_type": "code",
   "execution_count": 30,
   "metadata": {},
   "outputs": [
    {
     "name": "stdout",
     "output_type": "stream",
     "text": [
      "[5, 4, 3, 2, 1]\n"
     ]
    }
   ],
   "source": [
    "numbers = [1, 2, 3, 4, 5]\n",
    "print(list(reversed(numbers)))"
   ]
  },
  {
   "cell_type": "markdown",
   "metadata": {},
   "source": [
    "Why?\n",
    "* The reversed() function returns an iterator that iterates over the list in reverse order.\n",
    "* list(reversed(numbers)) converts that iterator into a list.\n",
    "* The original list [1, 2, 3, 4, 5] is reversed to [5, 4, 3, 2, 1]"
   ]
  },
  {
   "cell_type": "markdown",
   "metadata": {},
   "source": [
    "#### Question 13: Write a Python program to create a generator that yields the Fibonacci sequence up to the nth term.\n"
   ]
  },
  {
   "cell_type": "code",
   "execution_count": 32,
   "metadata": {},
   "outputs": [
    {
     "name": "stdout",
     "output_type": "stream",
     "text": [
      "[0, 1, 1, 2, 3, 5, 8, 13, 21, 34]\n"
     ]
    }
   ],
   "source": [
    "def fibonacci_generator(n):\n",
    "    a, b = 0, 1\n",
    "    for _ in range(n):\n",
    "        yield a\n",
    "        a, b = b, a + b\n",
    "        \n",
    "n = 10\n",
    "print(list(fibonacci_generator(n)))"
   ]
  },
  {
   "cell_type": "markdown",
   "metadata": {},
   "source": [
    "Explanation of Code Execution:\n",
    "\n",
    "* yield a: Returns the current Fibonacci number but pauses execution.\n",
    "* a, b = b, a + b: Moves to the next Fibonacci number.\n",
    "* The loop runs n times, yielding n Fibonacci numbers."
   ]
  },
  {
   "cell_type": "markdown",
   "metadata": {},
   "source": [
    "#### Question 14: What is the output of the following code?\n",
    "<pre>import math\n",
    "print(math.pi)\n",
    "</pre>"
   ]
  },
  {
   "cell_type": "code",
   "execution_count": 33,
   "metadata": {},
   "outputs": [
    {
     "name": "stdout",
     "output_type": "stream",
     "text": [
      "3.141592653589793\n"
     ]
    }
   ],
   "source": [
    "import math\n",
    "print(math.pi)"
   ]
  },
  {
   "cell_type": "markdown",
   "metadata": {},
   "source": [
    "Why?\n",
    "* The math module in Python provides mathematical functions and constants.\n",
    "* math.pi returns the mathematical constant π (pi), which is approximately 3.141592653589793.\n",
    "* This value is commonly used in geometry and trigonometry"
   ]
  },
  {
   "cell_type": "markdown",
   "metadata": {},
   "source": [
    "#### Question 15: Write a Python program to print an inverted star pyramid of height 5.\n",
    "<pre>*********\n",
    " *******\n",
    "  *****\n",
    "   ***\n",
    "    *\n",
    "</pre>"
   ]
  },
  {
   "cell_type": "code",
   "execution_count": 34,
   "metadata": {},
   "outputs": [
    {
     "name": "stdout",
     "output_type": "stream",
     "text": [
      "*********\n",
      " *******\n",
      "  *****\n",
      "   ***\n",
      "    *\n"
     ]
    }
   ],
   "source": [
    "def inverted_pyramid(height):\n",
    "    for i in range(height, 0, -1):\n",
    "        spaces = ' ' * (height - i)\n",
    "        stars = '*' * (2 * i -1)\n",
    "        print(spaces + stars)\n",
    "        \n",
    "height = 5\n",
    "inverted_pyramid(height)"
   ]
  },
  {
   "cell_type": "markdown",
   "metadata": {},
   "source": [
    "Your Markdown structure is mostly correct, but I made some improvements for better readability and proper formatting. Here's the corrected version:  \n",
    "\n",
    "```markdown\n",
    "### Explanation:\n",
    "1. **Loop from height down to 1** (`range(height, 0, -1)`)\n",
    "   - Starts at `height = 5`, decreases to `1`.\n",
    "\n",
    "2. **Calculate spaces** (`' ' * (height - i)`)\n",
    "   - Number of spaces increases as `i` decreases.\n",
    "   - Example:\n",
    "     ```\n",
    "     Row 1: 0 spaces\n",
    "     Row 2: 1 space\n",
    "     Row 3: 2 spaces\n",
    "     Row 4: 3 spaces\n",
    "     Row 5: 4 spaces\n",
    "     ```\n",
    "\n",
    "3. **Calculate stars** (`'*' * (2 * i - 1)`)\n",
    "   - Number of stars follows the pattern:\n",
    "     ```\n",
    "     Row 1: 9 stars\n",
    "     Row 2: 7 stars\n",
    "     Row 3: 5 stars\n",
    "     Row 4: 3 stars\n",
    "     Row 5: 1 star\n",
    "     ```\n",
    "\n",
    "4. **Print `spaces + stars` to form the pyramid shape.**\n",
    "\n",
    "### **Final Output:**\n",
    "```\n",
    "<pre>*********\n",
    " *******\n",
    "  *****\n",
    "   ***\n",
    "    *</pre>\n",
    "```\n",
    "```"
   ]
  }
 ],
 "metadata": {
  "kernelspec": {
   "display_name": ".venv",
   "language": "python",
   "name": "python3"
  },
  "language_info": {
   "codemirror_mode": {
    "name": "ipython",
    "version": 3
   },
   "file_extension": ".py",
   "mimetype": "text/x-python",
   "name": "python",
   "nbconvert_exporter": "python",
   "pygments_lexer": "ipython3",
   "version": "3.13.2"
  }
 },
 "nbformat": 4,
 "nbformat_minor": 2
}
